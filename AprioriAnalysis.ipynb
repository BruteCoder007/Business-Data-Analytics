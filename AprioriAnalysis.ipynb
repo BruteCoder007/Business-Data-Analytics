{
 "cells": [
  {
   "cell_type": "code",
   "execution_count": 1,
   "metadata": {},
   "outputs": [],
   "source": [
    "import pandas as pd\n",
    "from mlxtend.frequent_patterns import apriori\n",
    "from mlxtend.frequent_patterns import association_rules\n",
    "from itertools import combinations"
   ]
  },
  {
   "cell_type": "code",
   "execution_count": 2,
   "metadata": {},
   "outputs": [],
   "source": [
    "zerodha = pd.read_csv('TELIA1.HE.csv')\n",
    "lycaa = pd.read_csv('TSCO.L.csv')\n",
    "tesla = pd.read_csv('TSLA.csv')"
   ]
  },
  {
   "cell_type": "code",
   "execution_count": 3,
   "metadata": {},
   "outputs": [],
   "source": [
    "zerodha['stock_name'] = 'zerodha'\n",
    "lycaa['stock_name'] = 'lycaa'\n",
    "tesla['stock_name'] = 'tesla'"
   ]
  },
  {
   "cell_type": "code",
   "execution_count": 4,
   "metadata": {},
   "outputs": [],
   "source": [
    "combined_df = pd.concat([zerodha, lycaa, tesla], ignore_index=True)"
   ]
  },
  {
   "cell_type": "code",
   "execution_count": 5,
   "metadata": {},
   "outputs": [],
   "source": [
    "basket = (combined_df.groupby(['Date', 'stock_name'])['stock_name']\n",
    "          .count().unstack().reset_index().fillna(0)\n",
    "          .set_index('Date'))"
   ]
  },
  {
   "cell_type": "code",
   "execution_count": 6,
   "metadata": {},
   "outputs": [],
   "source": [
    "def encode_units(x):\n",
    "    if x <= 0:\n",
    "        return 0\n",
    "    if x >= 1:\n",
    "        return 1"
   ]
  },
  {
   "cell_type": "code",
   "execution_count": 7,
   "metadata": {},
   "outputs": [],
   "source": [
    "basket_sets = basket.applymap(encode_units)\n",
    "\n",
    "frequent_itemsets = apriori(basket_sets, min_support=0.01, use_colnames=True)\n",
    "\n",
    "rules = association_rules(frequent_itemsets, metric=\"lift\", min_threshold=1.0)"
   ]
  },
  {
   "cell_type": "code",
   "execution_count": 8,
   "metadata": {},
   "outputs": [
    {
     "name": "stdout",
     "output_type": "stream",
     "text": [
      "    support                 itemsets\n",
      "0  1.000000                  (lycaa)\n",
      "1  0.448165                  (tesla)\n",
      "2  0.454058                (zerodha)\n",
      "3  0.448165           (tesla, lycaa)\n",
      "4  0.454058         (zerodha, lycaa)\n",
      "5  0.448165         (tesla, zerodha)\n",
      "6  0.448165  (tesla, zerodha, lycaa)\n"
     ]
    }
   ],
   "source": [
    "print(frequent_itemsets)"
   ]
  },
  {
   "cell_type": "code",
   "execution_count": 9,
   "metadata": {},
   "outputs": [],
   "source": [
    "combined_df.to_csv('combined_stock_data.csv', index=False)"
   ]
  },
  {
   "cell_type": "code",
   "execution_count": 10,
   "metadata": {},
   "outputs": [
    {
     "name": "stdout",
     "output_type": "stream",
     "text": [
      "         antecedents       consequents  antecedent support  \\\n",
      "0            (tesla)           (lycaa)            0.448165   \n",
      "1            (lycaa)           (tesla)            1.000000   \n",
      "2          (zerodha)           (lycaa)            0.454058   \n",
      "3            (lycaa)         (zerodha)            1.000000   \n",
      "4            (tesla)         (zerodha)            0.448165   \n",
      "5          (zerodha)           (tesla)            0.454058   \n",
      "6   (tesla, zerodha)           (lycaa)            0.448165   \n",
      "7     (tesla, lycaa)         (zerodha)            0.448165   \n",
      "8   (zerodha, lycaa)           (tesla)            0.454058   \n",
      "9            (tesla)  (zerodha, lycaa)            0.448165   \n",
      "10         (zerodha)    (tesla, lycaa)            0.454058   \n",
      "11           (lycaa)  (tesla, zerodha)            1.000000   \n",
      "\n",
      "    consequent support   support  confidence     lift  leverage  conviction  \n",
      "0             1.000000  0.448165    1.000000  1.00000  0.000000         inf  \n",
      "1             0.448165  0.448165    0.448165  1.00000  0.000000    1.000000  \n",
      "2             1.000000  0.454058    1.000000  1.00000  0.000000         inf  \n",
      "3             0.454058  0.454058    0.454058  1.00000  0.000000    1.000000  \n",
      "4             0.454058  0.448165    1.000000  2.20236  0.244672         inf  \n",
      "5             0.448165  0.448165    0.987021  2.20236  0.244672   42.516377  \n",
      "6             1.000000  0.448165    1.000000  1.00000  0.000000         inf  \n",
      "7             0.454058  0.448165    1.000000  2.20236  0.244672         inf  \n",
      "8             0.448165  0.448165    0.987021  2.20236  0.244672   42.516377  \n",
      "9             0.454058  0.448165    1.000000  2.20236  0.244672         inf  \n",
      "10            0.448165  0.448165    0.987021  2.20236  0.244672   42.516377  \n",
      "11            0.448165  0.448165    0.448165  1.00000  0.000000    1.000000  \n"
     ]
    }
   ],
   "source": [
    "print(rules)"
   ]
  },
  {
   "cell_type": "code",
   "execution_count": 11,
   "metadata": {},
   "outputs": [],
   "source": [
    "filtered_rules = rules[rules['lift'] > 1.2]"
   ]
  },
  {
   "cell_type": "code",
   "execution_count": 12,
   "metadata": {},
   "outputs": [],
   "source": [
    "sorted_rules = filtered_rules.sort_values(by='lift', ascending=False)"
   ]
  },
  {
   "cell_type": "code",
   "execution_count": 13,
   "metadata": {},
   "outputs": [
    {
     "name": "stdout",
     "output_type": "stream",
     "text": [
      "Best combinations to buy:\n",
      "Items: tesla => zerodha, Lift: 2.2023598820059\n",
      "Items: zerodha => tesla, Lift: 2.2023598820059\n",
      "Items: tesla, lycaa => zerodha, Lift: 2.2023598820059\n",
      "Items: zerodha, lycaa => tesla, Lift: 2.2023598820059\n",
      "Items: tesla => zerodha, lycaa, Lift: 2.2023598820059\n",
      "Items: zerodha => tesla, lycaa, Lift: 2.2023598820059\n"
     ]
    }
   ],
   "source": [
    "print(\"Best combinations to buy:\")\n",
    "for index, row in sorted_rules.iterrows():\n",
    "    items = ', '.join(row['antecedents']) + \" => \" + ', '.join(row['consequents'])\n",
    "    lift = row['lift']\n",
    "    print(f\"Items: {items}, Lift: {lift}\")"
   ]
  }
 ],
 "metadata": {
  "kernelspec": {
   "display_name": "Python 3",
   "language": "python",
   "name": "python3"
  },
  "language_info": {
   "codemirror_mode": {
    "name": "ipython",
    "version": 3
   },
   "file_extension": ".py",
   "mimetype": "text/x-python",
   "name": "python",
   "nbconvert_exporter": "python",
   "pygments_lexer": "ipython3",
   "version": "3.10.2"
  }
 },
 "nbformat": 4,
 "nbformat_minor": 2
}
